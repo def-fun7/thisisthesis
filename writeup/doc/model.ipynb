{
 "cells": [
  {
   "cell_type": "code",
   "execution_count": 76,
   "id": "afd76581",
   "metadata": {},
   "outputs": [
    {
     "name": "stdout",
     "output_type": "stream",
     "text": [
      "Following are the results: \n",
      " \n",
      " mass                  =  1.152e+38 kg =  5.791e+07 solMass\n",
      " Schwarazchild radius  =  1.710e+11 m\n",
      " Coordinate Distanc    =  5.798e-04 m\n",
      " Radial Distance       =  1.710e+11 m\n",
      " f(r)                  =  5.867e-08\n",
      " Coordinate Time       =  1.705e+07 s\n",
      " Proper acceleration   =  4.479e+12 m / s2\n",
      " Distance of B         =  1.522e+16 m\n",
      " Distance AB           =  1.522e+16 m\n",
      " Redshift factor(z)    =  1.705e+07\n",
      " Emitted Wavelength(A) =  2.933e-05 nm\n",
      " Emitted Wavelength(B) =  8.523e+09 nm\n",
      " Signal Travel Time    =  1.497e+22 s\n",
      " Dot Duration(A)       =  1.760e-07 ms\n",
      " Dot Duration(B)       =  5.114e+07 ms\n",
      " Dash Duration(A)      =  2.933e-07 ms\n",
      " Dash Duration(B)      =  8.523e+07 ms\n",
      " Text Time(A)          =  4.107e-06 ms\n",
      " Text Time(B)          =  1.193e+09 ms\n"
     ]
    }
   ],
   "source": [
    " # The class of BH\n",
    "\n",
    "import numpy as np\n",
    "import MorseCodePy as morse\n",
    "from astropy import units as u\n",
    "from astropy import constants as const\n",
    "\n",
    "\n",
    "class BH_model:\n",
    "    def __init__(self, height = 2 * u.meter, p_rad = 10 * u.kilometer, p_time = 1 * u.second, obs_wavelength = 500 * u.nanometer, dot_d = 3 * u.millisecond, dash_d = 5 * u.millisecond, message = 'Hello'):\n",
    "\n",
    "        self.height         = height\n",
    "        self.proper_r       =  p_rad\n",
    "        self.proper_t       = p_time\n",
    "        self.obs_wavelength = obs_wavelength\n",
    "        self.dot_d          = dot_d\n",
    "        self.dash_d         = dash_d\n",
    "        self.message        = message\n",
    "\n",
    "        self.c  = const.c\n",
    "        self.G  = const.G\n",
    "        self.ge = (2 * const.G * const.M_earth * self.height)/ (const.R_earth **3)\n",
    "\n",
    "        self.mass            = self.mass_of_BH()\n",
    "        self.schwarazchild_r = self.schwarazchild_radius()\n",
    "        self.coordinate_r    = self.coordinate_distance()\n",
    "        self.radial_r        = self.radial_distance()\n",
    "        self.f_of_r          = self.function_r()\n",
    "        self.coordinate_t    = self.coordinate_time()\n",
    "        self.proper_a        = self.proper_accelaration()\n",
    "        self.B_distance      = self.distance_of_B()\n",
    "        self.AB_distance     = self.distance_AB()\n",
    "        self.z               = self.redshift_factor()\n",
    "        self.A_emittedW      = self.emitted_wavelength_A()\n",
    "        self.B_emittedW      = self.emitted_wavelength_B()\n",
    "        self.signal_travel_t = self.signal_travel_time()\n",
    "        self.dot_A           = self.dot_duration_A()\n",
    "        self.dash_A          = self.dash_duration_A()\n",
    "        self.dot_B           = self.dot_duration_B()\n",
    "        self.dash_B          = self.dash_duration_B()\n",
    "        self.msg_t_A         = self.message_time_A()\n",
    "        self.msg_t_B         = self.message_time_B()\n",
    "\n",
    "    def mass_of_BH(self):\n",
    "        return (pow(self.c, 3)/ (2*self.G)) * np.sqrt(self.height/self.ge)\n",
    "\n",
    "    def schwarazchild_radius(self):\n",
    "        return (2 * self.G * self.mass) / pow(self.c, 2)\n",
    "\n",
    "    def coordinate_distance(self):\n",
    "        return (- self.schwarazchild_r + np.sqrt(pow(self.schwarazchild_r, 2) + 4 * pow(self.proper_r, 2)))/ 2\n",
    "\n",
    "    def radial_distance(self):\n",
    "        return self.coordinate_r + self.schwarazchild_r\n",
    "\n",
    "    def function_r(self):\n",
    "        return np.sqrt(1 - (self.schwarazchild_r/self.radial_r))\n",
    "\n",
    "    def coordinate_time(self):\n",
    "        return self.proper_t/self.f_of_r\n",
    "\n",
    "    def proper_accelaration(self):\n",
    "        return (self.G * self.mass)/ (pow(self.radial_r, 2) * self.f_of_r)\n",
    "\n",
    "    def distance_of_B(self):\n",
    "        dis_me = 3.843e8 * u.meter\n",
    "        return np.sqrt((self.G * self.mass) / ((const.G * (const.M_earth * 0.0123))/ pow(dis_me, 2)))\n",
    "\n",
    "    def distance_AB(self):\n",
    "        return self.B_distance - self.radial_r\n",
    "\n",
    "    def redshift_factor(self):\n",
    "        return -1 + (1/self.f_of_r)\n",
    "\n",
    "    def emitted_wavelength_A(self):\n",
    "        return self.obs_wavelength / (1 + self.z)\n",
    "\n",
    "    def emitted_wavelength_B(self):\n",
    "        return self.obs_wavelength * (1 + self.z)\n",
    "\n",
    "    def signal_travel_time(self):\n",
    "        return (self.AB_distance/self.c) + ((self.schwarazchild_r/self.c)*(self.B_distance - self.schwarazchild_r)/(self.radial_r - self.schwarazchild_r))\n",
    "\n",
    "    def dot_duration_A(self):\n",
    "        return self.dot_d * self.f_of_r\n",
    "\n",
    "    def dash_duration_A(self):\n",
    "        return self.dash_d * self.f_of_r\n",
    "\n",
    "    def dot_duration_B(self):\n",
    "        return self.dot_d / self.f_of_r\n",
    "\n",
    "    def dash_duration_B(self):\n",
    "        return self.dash_d / self.f_of_r\n",
    "\n",
    "    def message_time_A(self):\n",
    "        msg_M = morse.encode(self.message, language = \"English\")\n",
    "        dic = dict(zip( list(set(msg_M)),[msg_M.count(i) for i in set(msg_M)]))\n",
    "        dot = ['.', ' ']\n",
    "        dash = ['-', '/']\n",
    "        t = []\n",
    "        for i in set(msg_M):\n",
    "            if i in dot:\n",
    "                t.append(dic[i]* self.dot_A)\n",
    "            elif i in dash:\n",
    "                t.append(dic[i]* self.dash_A)\n",
    "            else:\n",
    "                raise RuntimeError(\"Error in decoding\")\n",
    "\n",
    "        return sum(t)\n",
    "\n",
    "    def message_time_B(self):\n",
    "        msg_M = morse.encode(self.message, language = \"English\")\n",
    "        dic = dict(zip( list(set(msg_M)),[msg_M.count(i) for i in set(msg_M)]))\n",
    "        dot = ['.', ' ']\n",
    "        dash = ['-', '/']\n",
    "        t = []\n",
    "        for i in set(msg_M):\n",
    "            if i in dot:\n",
    "                t.append(dic[i]* self.dot_B)\n",
    "            elif i in dash:\n",
    "                t.append(dic[i]* self.dash_B)\n",
    "            else:\n",
    "                raise RuntimeError(\"Error in decoding\")\n",
    "\n",
    "        return sum(t)\n",
    "\n",
    "    def so_far(self):\n",
    "        print(f\"Following are the results: \\n \")\n",
    "        print(f\" mass                  = {self.mass: .3e} = {self.mass.to(u.solMass): .3e}\")\n",
    "        print(f\" Schwarazchild radius  = {self.schwarazchild_r: .3e}\")\n",
    "        print(f\" Coordinate Distanc    = {self.coordinate_r: .3e}\")\n",
    "        print(f\" Radial Distance       = {self.radial_r: .3e}\")\n",
    "        print(f\" f(r)                  = {self.f_of_r: .3e}\")\n",
    "        print(f' Coordinate Time       = {self.coordinate_t: .3e}')\n",
    "        print(f\" Proper acceleration   = {self.proper_a: .3e}\")\n",
    "        print(f\" Distance of B         = {self.B_distance: .3e}\")\n",
    "        print(f\" Distance AB           = {self.AB_distance: .3e}\")\n",
    "        print(f\" Redshift factor(z)    = {self.z: .3e}\")\n",
    "        print(f\" Emitted Wavelength(A) = {self.A_emittedW: .3e}\")\n",
    "        print(f\" Emitted Wavelength(B) = {self.B_emittedW: .3e}\")\n",
    "        print(f\" Signal Travel Time    = {self.signal_travel_t: .3e}\")\n",
    "        print(f\" Dot Duration(A)       = {self.dot_A: .3e}\")\n",
    "        print(f\" Dot Duration(B)       = {self.dot_B: .3e}\")\n",
    "        print(f\" Dash Duration(A)      = {self.dash_A: .3e}\")\n",
    "        print(f\" Dash Duration(B)      = {self.dash_B: .3e}\")\n",
    "        print(f\" Text Time(A)          = {self.msg_t_A: .3e}\")\n",
    "        print(f\" Text Time(B)          = {self.msg_t_B: .3e}\")\n",
    "\n",
    "m1 = BH_model()\n",
    "m1.so_far()\n"
   ]
  },
  {
   "cell_type": "code",
   "execution_count": 74,
   "id": "ea3e7235",
   "metadata": {},
   "outputs": [
    {
     "data": {
      "text/latex": [
       "$3.3197247 \\times 10^{-5} \\; \\mathrm{\\frac{m}{s^{2}}}$"
      ],
      "text/plain": [
       "<Quantity 3.31972472e-05 m / s2>"
      ]
     },
     "execution_count": 74,
     "metadata": {},
     "output_type": "execute_result"
    }
   ],
   "source": [
    "dis_me = 3.843e8 * u.meter\n",
    "\n",
    "(((const.G * (const.M_earth * 0.0123))/ pow(dis_me, 2))).decompose()"
   ]
  },
  {
   "cell_type": "code",
   "execution_count": 14,
   "id": "17a777fd",
   "metadata": {},
   "outputs": [
    {
     "data": {
      "text/latex": [
       "$2.0446962 \\times 10^{32} \\; \\mathrm{\\frac{m^{10}}{kg\\,s^{6}}}$"
      ],
      "text/plain": [
       "<Quantity 2.04469621e+32 m10 / (kg s6)>"
      ]
     },
     "execution_count": 14,
     "metadata": {},
     "output_type": "execute_result"
    }
   ],
   "source": [
    "h = 1 * u.m\n",
    "(pow(const.c, 3)/2*const.G) * np.sqrt(pow(h, 2)*pow((h +const.R_earth), 3)/2 *const.G *const.M_earth)"
   ]
  },
  {
   "cell_type": "code",
   "execution_count": 73,
   "id": "f69008f3",
   "metadata": {},
   "outputs": [
    {
     "data": {
      "text/latex": [
       "$57912672 \\; \\mathrm{M_{\\odot}}$"
      ],
      "text/plain": [
       "<Quantity 57912671.90423604 solMass>"
      ]
     },
     "execution_count": 73,
     "metadata": {},
     "output_type": "execute_result"
    }
   ],
   "source": [
    "c = const.c\n",
    "G = const.G\n",
    "h = 1* u.m\n",
    "re = const.R_earth\n",
    "Me = const.M_earth\n",
    "\n",
    "a = pow(c, 3)\n",
    "b = 2 * G\n",
    "C = a/b\n",
    "d = pow((re), 3)\n",
    "e = 2 * G * Me *1* u.m\n",
    "f = e/d\n",
    "g = h/f\n",
    "mass = (np.sqrt(g)*C).to(u.solMass)\n",
    "\n",
    "pr = 10000*u.m\n",
    "\n",
    "rs = ((2 * G * mass) / pow(c, 2)).decompose()\n",
    "dr = (-rs + np.sqrt(pow(rs, 2) + 4*(pow(pr, 2))))/2\n",
    "\n",
    "mass"
   ]
  },
  {
   "cell_type": "code",
   "execution_count": 91,
   "id": "92275cff",
   "metadata": {},
   "outputs": [
    {
     "name": "stdout",
     "output_type": "stream",
     "text": [
      "{'.': 19, ' ': 10, '-': 13, '/': 1}\n"
     ]
    },
    {
     "data": {
      "text/latex": [
       "$2676170 \\; \\mathrm{s}$"
      ],
      "text/plain": [
       "<Quantity 2676169.95476329 s>"
      ]
     },
     "execution_count": 91,
     "metadata": {},
     "output_type": "execute_result"
    }
   ],
   "source": [
    "msg = 'hello world'\n",
    "\n",
    "dot_B = m1.dot_B\n",
    "dash_B = m1.dash_B\n",
    "\n",
    "def message_time_B(message):\n",
    "        msg_M = morse.encode(message, language = \"English\")\n",
    "        dic = dict(zip( list(set(msg_M)),[msg_M.count(i) for i in set(msg_M)]))\n",
    "        print(dic)\n",
    "        dot = ['.', ' ']\n",
    "        dash = ['-', '/']\n",
    "        t = []\n",
    "        for i in set(msg_M):\n",
    "            if i in dot:\n",
    "                t.append(dic[i]* dot_B)\n",
    "            elif i in dash:\n",
    "                t.append(dic[i]* dash_B)\n",
    "            else:\n",
    "                raise RuntimeError(\"Error in decoding\")\n",
    "        \n",
    "        return sum(t)\n",
    "message_time_B(msg).to(u.s)"
   ]
  },
  {
   "cell_type": "code",
   "execution_count": 10,
   "id": "33749399",
   "metadata": {},
   "outputs": [
    {
     "data": {
      "text/latex": [
       "$8.2724539 \\times 10^{12} \\; \\mathrm{\\frac{m}{s}}$"
      ],
      "text/plain": [
       "<Quantity 8.27245388e+12 m / s>"
      ]
     },
     "execution_count": 10,
     "metadata": {},
     "output_type": "execute_result"
    }
   ],
   "source": [
    "T =  2 * np.pi * np.sqrt (m1.radial_r**3/ (m1.G * m1.mass))\n",
    "C = 2 * np.pi * m1.radial_r\n",
    "\n",
    "C2 = 2 * np.pi * m1.B_distance\n",
    "C2/T"
   ]
  },
  {
   "cell_type": "code",
   "execution_count": 11,
   "id": "1eaf0f66",
   "metadata": {},
   "outputs": [
    {
     "data": {
      "text/latex": [
       "$1.3544653 \\times 10^{8} \\; \\mathrm{\\frac{m}{s}}$"
      ],
      "text/plain": [
       "<Quantity 1.35446533e+08 m / s>"
      ]
     },
     "execution_count": 11,
     "metadata": {},
     "output_type": "execute_result"
    }
   ],
   "source": [
    "np.sqrt(m1.proper_a * m1.radial_r)"
   ]
  },
  {
   "cell_type": "code",
   "execution_count": 13,
   "id": "49433904",
   "metadata": {},
   "outputs": [
    {
     "data": {
      "text/latex": [
       "$470760.96 \\; \\mathrm{\\frac{m}{s}}$"
      ],
      "text/plain": [
       "<Quantity 470760.9594336 m / s>"
      ]
     },
     "execution_count": 13,
     "metadata": {},
     "output_type": "execute_result"
    }
   ],
   "source": [
    "# np.sqrt(m1.)\n",
    "\n",
    "a = ((const.G * (const.M_earth * 0.0123))/ pow(3.843e8 * u.meter, 2))\n",
    "np.sqrt(a * m1.B_distance)"
   ]
  },
  {
   "cell_type": "code",
   "execution_count": 21,
   "id": "1d59bf65",
   "metadata": {},
   "outputs": [
    {
     "data": {
      "text/latex": [
       "$2823.4121 \\; \\mathrm{yr}$"
      ],
      "text/plain": [
       "<Quantity 2823.4120758 yr>"
      ]
     },
     "execution_count": 21,
     "metadata": {},
     "output_type": "execute_result"
    }
   ],
   "source": [
    "T2 = 2 * np.pi * np.sqrt (m1.B_distance**3/ (m1.G * m1.mass))\n",
    "T2.to(u.year)"
   ]
  },
  {
   "cell_type": "code",
   "execution_count": 25,
   "id": "aedfa264",
   "metadata": {},
   "outputs": [
    {
     "data": {
      "text/latex": [
       "$1.7249934 \\; \\mathrm{h}$"
      ],
      "text/plain": [
       "<Quantity 1.72499344 h>"
      ]
     },
     "execution_count": 25,
     "metadata": {},
     "output_type": "execute_result"
    }
   ],
   "source": [
    "T.to(u.hour)/m1.f_of_r"
   ]
  },
  {
   "cell_type": "code",
   "execution_count": 24,
   "id": "51ede19e",
   "metadata": {},
   "outputs": [
    {
     "data": {
      "text/latex": [
       "$1.2247449 \\; \\mathrm{s}$"
      ],
      "text/plain": [
       "<Quantity 1.22474487 s>"
      ]
     },
     "execution_count": 24,
     "metadata": {},
     "output_type": "execute_result"
    }
   ],
   "source": [
    "m1.coordinate_time()"
   ]
  },
  {
   "cell_type": "markdown",
   "id": "3d7dbd79",
   "metadata": {},
   "source": [
    "$$ \\frac{\\sqrt[3]{r_o}}{c\\sqrt{r_s}} (\\frac{\\pi}{2} - \\frac{2}{3}\\sqrt[3]{\\frac{r_s}{r_o}})$$ "
   ]
  },
  {
   "cell_type": "code",
   "execution_count": null,
   "id": "07059869",
   "metadata": {},
   "outputs": [
    {
     "data": {
      "text/latex": [
       "$1.6548061 \\; \\mathrm{min}$"
      ],
      "text/plain": [
       "<Quantity 1.65480612 min>"
      ]
     },
     "execution_count": 16,
     "metadata": {},
     "output_type": "execute_result"
    }
   ],
   "source": [
    "r0 = m1.radial_r\n",
    "\n",
    "rs = m1.schwarazchild_r + 1 * u.kilometer\n",
    "r0 = 2 * u.kilometer  + rs\n",
    "\n",
    "t = (r0**(3/2))/(m1.c * np.sqrt(rs)) * ((np.pi/2)- (2/3)*((rs/r0)**(3/2)))\n",
    "t.to(u.minute)"
   ]
  },
  {
   "cell_type": "code",
   "execution_count": 19,
   "id": "3eadd6d2",
   "metadata": {},
   "outputs": [
    {
     "data": {
      "text/latex": [
       "$10.071673 \\; \\mathrm{\\frac{m}{s}}$"
      ],
      "text/plain": [
       "<Quantity 10.07167331 m / s>"
      ]
     },
     "execution_count": 19,
     "metadata": {},
     "output_type": "execute_result"
    }
   ],
   "source": [
    "(1 * u.kilometer / t.to(u.second) ).to(u.meter/u.second)"
   ]
  },
  {
   "cell_type": "code",
   "execution_count": 26,
   "id": "1ca759da",
   "metadata": {},
   "outputs": [
    {
     "data": {
      "text/latex": [
       "$214011.21 \\; \\mathrm{\\frac{m}{s}}$"
      ],
      "text/plain": [
       "<Quantity 214011.20570212 m / s>"
      ]
     },
     "execution_count": 26,
     "metadata": {},
     "output_type": "execute_result"
    }
   ],
   "source": [
    "np.sqrt(m1.proper_a/1000*u.m)"
   ]
  },
  {
   "cell_type": "code",
   "execution_count": 22,
   "id": "890b4c10",
   "metadata": {},
   "outputs": [
    {
     "data": {
      "text/plain": [
       "[<matplotlib.lines.Line2D at 0x2829cde9a50>]"
      ]
     },
     "execution_count": 22,
     "metadata": {},
     "output_type": "execute_result"
    },
    {
     "data": {
      "image/png": "[encoded data removed]",
      "text/plain": [
       "<Figure size 640x480 with 1 Axes>"
      ]
     },
     "metadata": {},
     "output_type": "display_data"
    }
   ],
   "source": [
    "def function(mass):\n",
    "    \n",
    "    rs = (2 * const.G * mass )/ const.c**2\n",
    "    r = rs + 1000 * u.meter\n",
    "    q = np.sqrt( 1 - (rs/r))\n",
    "    a = (const.G * mass / r**2) * (1/q)\n",
    "    return a\n",
    "x = []\n",
    "for i in range(10):\n",
    "    x.append(function((10**(i))* u.solMass).to(const.g0.unit).value)\n",
    "    \n",
    "import matplotlib.pyplot as plt\n",
    "\n",
    "plt.plot(x)\n",
    "\n"
   ]
  },
  {
   "cell_type": "code",
   "execution_count": 26,
   "id": "1080f2a8",
   "metadata": {},
   "outputs": [
    {
     "data": {
      "text/latex": [
       "$1.0178633 \\times 10^{8} \\; \\mathrm{\\frac{m}{s^{2}}}$"
      ],
      "text/plain": [
       "<Quantity 1.01786329e+08 m / s2>"
      ]
     },
     "execution_count": 26,
     "metadata": {},
     "output_type": "execute_result"
    }
   ],
   "source": [
    "function((6.6e10)* u.solMass).to(const.g0.unit)"
   ]
  },
  {
   "cell_type": "code",
   "execution_count": 1,
   "id": "1fdc431e",
   "metadata": {},
   "outputs": [],
   "source": [
    "import astropy.constants as const"
   ]
  },
  {
   "cell_type": "code",
   "execution_count": 5,
   "id": "7ddd71ec",
   "metadata": {},
   "outputs": [
    {
     "data": {
      "text/latex": [
       "$9.80665 \\; \\mathrm{\\frac{m}{s^{2}}}$"
      ],
      "text/plain": [
       "<<class 'astropy.constants.codata2018.CODATA2018'> name='Standard acceleration of gravity' value=9.80665 uncertainty=0.0 unit='m / s2' reference='CODATA 2018'>"
      ]
     },
     "execution_count": 5,
     "metadata": {},
     "output_type": "execute_result"
    }
   ],
   "source": [
    "const.g0"
   ]
  },
  {
   "cell_type": "code",
   "execution_count": 2,
   "id": "7cec1a2b",
   "metadata": {},
   "outputs": [
    {
     "data": {
      "text/plain": [
       "163"
      ]
     },
     "execution_count": 2,
     "metadata": {},
     "output_type": "execute_result"
    }
   ],
   "source": [
    "import numpy as np\n",
    "import MorseCodePy as morse\n",
    "from astropy import units as u\n",
    "from astropy import constants as const\n",
    "\n",
    "\n",
    "G = const.G\n",
    "c = const.c\n",
    "dg = 3.0723e-6 * u.m/(u.second**2)\n",
    "\n",
    "def mass_from_h(height):\n",
    "    return ((pow(c, 3)/ (2*G)) * np.sqrt(height/dg)).to(u.solMass)\n",
    "\n",
    "\n",
    "min_h  = 163 \n",
    "max_h = 183 \n",
    "for h in range(min_h, max_h, 1):\n",
    "    # print(h*u.centimeter)\n",
    "    a = mass_from_h((h*u.centimeter).to(u.m))\n",
    "min_h"
   ]
  },
  {
   "cell_type": "code",
   "execution_count": 6,
   "id": "4c3bfb12",
   "metadata": {},
   "outputs": [
    {
     "data": {
      "text/latex": [
       "$7.8928244 \\; ex(solMass$"
      ],
      "text/plain": [
       "<Dex 7.89282436 dex(solMass)>"
      ]
     },
     "execution_count": 6,
     "metadata": {},
     "output_type": "execute_result"
    }
   ],
   "source": [
    "np.log10(a.value) * u.dex(u.solMass)"
   ]
  }
 ],
 "metadata": {
  "kernelspec": {
   "display_name": "Python 3",
   "language": "python",
   "name": "python3"
  },
  "language_info": {
   "codemirror_mode": {
    "name": "ipython",
    "version": 3
   },
   "file_extension": ".py",
   "mimetype": "text/x-python",
   "name": "python",
   "nbconvert_exporter": "python",
   "pygments_lexer": "ipython3",
   "version": "3.11.8"
  }
 },
 "nbformat": 4,
 "nbformat_minor": 5
}
